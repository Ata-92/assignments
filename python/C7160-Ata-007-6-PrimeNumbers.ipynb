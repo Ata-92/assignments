{
 "metadata": {
  "language_info": {
   "codemirror_mode": {
    "name": "ipython",
    "version": 3
   },
   "file_extension": ".py",
   "mimetype": "text/x-python",
   "name": "python",
   "nbconvert_exporter": "python",
   "pygments_lexer": "ipython3",
   "version": 3
  },
  "orig_nbformat": 2
 },
 "nbformat": 4,
 "nbformat_minor": 2,
 "cells": [
  {
   "cell_type": "code",
   "execution_count": null,
   "metadata": {},
   "outputs": [],
   "source": [
    "n = int(input(\"Please enter a prime number limit : \"))\n",
    "nums = []\n",
    "for i in range(2, n):\n",
    "    for ii in range(2, 8):\n",
    "        if i in [2, 3, 5, 7] or i % ii != 0:\n",
    "            if ii == 7:\n",
    "                nums.append(i)\n",
    "        else:\n",
    "            break        \n",
    "print(nums)"
   ]
  }
 ]
}