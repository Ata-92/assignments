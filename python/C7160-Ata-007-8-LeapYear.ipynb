{
 "metadata": {
  "language_info": {
   "codemirror_mode": {
    "name": "ipython",
    "version": 3
   },
   "file_extension": ".py",
   "mimetype": "text/x-python",
   "name": "python",
   "nbconvert_exporter": "python",
   "pygments_lexer": "ipython3",
   "version": 3
  },
  "orig_nbformat": 2
 },
 "nbformat": 4,
 "nbformat_minor": 2,
 "cells": [
  {
   "cell_type": "code",
   "execution_count": null,
   "metadata": {},
   "outputs": [],
   "source": [
    "year = int(input(\"Please enter a year : \"))\n",
    "if year % 4 == 0 and year % 400 == 0:\n",
    "    print(year, \"is a leap year\")\n",
    "elif year % 4 == 0 and year % 100 == 0:\n",
    "    print(year, \"is not a leap year\")\n",
    "elif year % 4 == 0:\n",
    "    print(year, \"is a leap year\") "
   ]
  }
 ]
}